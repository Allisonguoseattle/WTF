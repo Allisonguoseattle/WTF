{
 "cells": [
  {
   "cell_type": "code",
   "execution_count": 90,
   "metadata": {},
   "outputs": [],
   "source": [
    "from __future__ import print_function\n",
    "\n",
    "import os\n",
    "import json\n",
    "#import boto3\n",
    "from datetime import datetime, timedelta\n",
    "from urllib2 import urlopen\n",
    "#from botocore.exceptions import ClientError\n",
    "#from boto3.dynamodb.conditions import Key, Attr\n"
   ]
  },
  {
   "cell_type": "code",
   "execution_count": 74,
   "metadata": {},
   "outputs": [],
   "source": [
    "SITE = 'https://bittrex.com/api/v1.1/public/getmarketsummaries'  # URL of the site to check, stored in the site environment variable, e.g. https://aws.amazon.com\n",
    "#EXPECTED = os.environ['expected']  # String expected to be on the page, stored in the expected environment variable, e.g. Amazon\n",
    "MARKETNAME = 'MarketName'\n",
    "TIMESTAMP = 'TimeStamp'\n",
    "#TRADINGSNS = os.environ['tradingSNS']\n",
    "INDIVIDUALSUMMARYPREFIX = 'https://bittrex.com/Api/v2.0/pub/market/GetTicks?marketName='\n",
    "INDIVIDUALSUMMARYPOSTFIX = '&tickInterval=oneMin&_=1499127220008'\n",
    "MARKETLIMIT = 2\n",
    "HOURINTEREST = int(336) #hours\n"
   ]
  },
  {
   "cell_type": "code",
   "execution_count": 5,
   "metadata": {},
   "outputs": [
    {
     "data": {
      "text/plain": [
       "1"
      ]
     },
     "execution_count": 5,
     "metadata": {},
     "output_type": "execute_result"
    }
   ],
   "source": [
    "#holdingStatusTable = dynamodb.Table('MarketHoldingStatus')\n",
    "#here?"
   ]
  },
  {
   "cell_type": "code",
   "execution_count": 94,
   "metadata": {},
   "outputs": [],
   "source": [
    "def retrieveMarketHistoricalData(rawMarketData):\n",
    "    marketHistoricalData = dict()\n",
    "    print('Total number of market is {}'.format(str(len(rawMarketData['result']))))\n",
    "    listOfMarket = getListOfMarket(rawMarketData)\n",
    "    \n",
    "    timeStop = str(datetime.utcnow() - timedelta(hours = HOURINTEREST)).replace(' ', 'T')\n",
    "    \n",
    "    marketLimit = int(MARKETLIMIT)\n",
    "    for market in listOfMarket:\n",
    "        print(market)\n",
    "        individualMarketUrl = INDIVIDUALSUMMARYPREFIX + market + INDIVIDUALSUMMARYPOSTFIX\n",
    "        unfilledData = json.loads(urlopen(individualMarketUrl).read())['result']\n",
    "\n",
    "        try:\n",
    "            it = next(i for i in xrange(len(unfilledData)) if unfilledData[i]['T'] >= timeStop)\n",
    "        except:\n",
    "            print(market + \": no valid data within last \" + str(HOURINTEREST) + \" hours\")\n",
    "        else:\n",
    "            cutUnfilledData = unfilledData[it:]\n",
    "            marketHistoricalData[market] = cutUnfilledData\n",
    "        finally:\n",
    "            # Need to break before running limit\n",
    "            marketLimit = marketLimit - 1\n",
    "            if (marketLimit <= 0):\n",
    "                break\n",
    "    \n",
    "    return marketHistoricalData\n",
    "def getListOfMarket(rawMarketData):\n",
    "    listOfMarket = list()\n",
    "    for record in rawMarketData['result']:\n",
    "        tradingPair = record[MARKETNAME]\n",
    "        if (tradingPair.startswith('BTC')):\n",
    "            listOfMarket.append(record[MARKETNAME])\n",
    "    \n",
    "    return listOfMarket"
   ]
  },
  {
   "cell_type": "code",
   "execution_count": 95,
   "metadata": {},
   "outputs": [
    {
     "name": "stdout",
     "output_type": "stream",
     "text": [
      "Total number of market is 263\n",
      "BTC-1ST\n",
      "BTC-2GIVE\n"
     ]
    }
   ],
   "source": [
    "marketUrl = SITE\n",
    "rawMarketData = json.loads(urlopen(marketUrl).read())\n",
    "marketHistoricalData = retrieveMarketHistoricalData(rawMarketData)"
   ]
  },
  {
   "cell_type": "code",
   "execution_count": 98,
   "metadata": {},
   "outputs": [],
   "source": [
    "#loop every 5 min, get 5min data \n",
    "#get a list of oldest to newest timestamp, 5min apart, loop the list, for each timestamp, get the 5min before current-timestamp data\n",
    "\n",
    "#ans=writeSignalHistory(tradingPair=pair,data=marketHistoricalData[pair],rwLength=60)\n",
    "#rwLength = how far to look back, in min, same as HOURINTEREST\n",
    "import datetime\n",
    "import time\n",
    "import calendar\n",
    "pair='BTC-2GIVE'\n",
    "data=marketHistoricalData[pair]\n",
    "    #sort data to make sure its time ascending\n",
    "data.sort(key=lambda x:x['T'])\n",
    "startTS=calendar.timegm(datetime.datetime.strptime(data[0]['T'],\"%Y-%m-%dT%H:%M:%S\").timetuple())\n",
    "endTS=calendar.timegm(datetime.datetime.strptime(data[-1]['T'],\"%Y-%m-%dT%H:%M:%S\").timetuple())\n",
    "startTime=data[0]['T']\n",
    "endTime=data[-1]['T']\n",
    "\n",
    "rwLengthMin=60 #min \n",
    "a=range(startTS,endTS, 5*60 )\n"
   ]
  },
  {
   "cell_type": "code",
   "execution_count": 114,
   "metadata": {},
   "outputs": [
    {
     "ename": "StopIteration",
     "evalue": "",
     "output_type": "error",
     "traceback": [
      "\u001b[0;31m---------------------------------------------------------------------------\u001b[0m",
      "\u001b[0;31mStopIteration\u001b[0m                             Traceback (most recent call last)",
      "\u001b[0;32m<ipython-input-114-493c586fde47>\u001b[0m in \u001b[0;36m<module>\u001b[0;34m()\u001b[0m\n\u001b[1;32m      3\u001b[0m     \u001b[0mDateTime_i\u001b[0m\u001b[0;34m=\u001b[0m\u001b[0mdatetime\u001b[0m\u001b[0;34m.\u001b[0m\u001b[0mdatetime\u001b[0m\u001b[0;34m.\u001b[0m\u001b[0mutcfromtimestamp\u001b[0m\u001b[0;34m(\u001b[0m\u001b[0mint\u001b[0m\u001b[0;34m(\u001b[0m\u001b[0mTS_i\u001b[0m\u001b[0;34m)\u001b[0m\u001b[0;34m)\u001b[0m\u001b[0;34m.\u001b[0m\u001b[0mstrftime\u001b[0m\u001b[0;34m(\u001b[0m\u001b[0;34m'%Y-%m-%dT%H:%M:%S'\u001b[0m\u001b[0;34m)\u001b[0m\u001b[0;34m\u001b[0m\u001b[0m\n\u001b[1;32m      4\u001b[0m     \u001b[0;31m#get data at current DateTime\u001b[0m\u001b[0;34m\u001b[0m\u001b[0;34m\u001b[0m\u001b[0m\n\u001b[0;32m----> 5\u001b[0;31m     \u001b[0mit\u001b[0m \u001b[0;34m=\u001b[0m \u001b[0mnext\u001b[0m\u001b[0;34m(\u001b[0m\u001b[0mj\u001b[0m \u001b[0;32mfor\u001b[0m \u001b[0mj\u001b[0m \u001b[0;32min\u001b[0m \u001b[0mxrange\u001b[0m\u001b[0;34m(\u001b[0m\u001b[0mlen\u001b[0m\u001b[0;34m(\u001b[0m\u001b[0mdata\u001b[0m\u001b[0;34m)\u001b[0m\u001b[0;34m)\u001b[0m \u001b[0;32mif\u001b[0m \u001b[0mdata\u001b[0m\u001b[0;34m[\u001b[0m\u001b[0mj\u001b[0m\u001b[0;34m]\u001b[0m\u001b[0;34m[\u001b[0m\u001b[0;34m'T'\u001b[0m\u001b[0;34m]\u001b[0m \u001b[0;34m>=\u001b[0m \u001b[0mDateTime_i\u001b[0m\u001b[0;34m)\u001b[0m\u001b[0;34m\u001b[0m\u001b[0m\n\u001b[0m\u001b[1;32m      6\u001b[0m     \u001b[0mdata\u001b[0m \u001b[0;34m=\u001b[0m \u001b[0mdata\u001b[0m\u001b[0;34m[\u001b[0m\u001b[0;34m:\u001b[0m\u001b[0;34m(\u001b[0m\u001b[0mit\u001b[0m\u001b[0;34m-\u001b[0m\u001b[0;36m1\u001b[0m\u001b[0;34m)\u001b[0m\u001b[0;34m]\u001b[0m\u001b[0;34m\u001b[0m\u001b[0m\n\u001b[1;32m      7\u001b[0m     \u001b[0mlatestTS\u001b[0m\u001b[0;34m=\u001b[0m\u001b[0mcalendar\u001b[0m\u001b[0;34m.\u001b[0m\u001b[0mtimegm\u001b[0m\u001b[0;34m(\u001b[0m\u001b[0mdatetime\u001b[0m\u001b[0;34m.\u001b[0m\u001b[0mdatetime\u001b[0m\u001b[0;34m.\u001b[0m\u001b[0mstrptime\u001b[0m\u001b[0;34m(\u001b[0m\u001b[0mdata\u001b[0m\u001b[0;34m[\u001b[0m\u001b[0;34m-\u001b[0m\u001b[0;36m1\u001b[0m\u001b[0;34m]\u001b[0m\u001b[0;34m[\u001b[0m\u001b[0;34m'T'\u001b[0m\u001b[0;34m]\u001b[0m\u001b[0;34m,\u001b[0m\u001b[0;34m\"%Y-%m-%dT%H:%M:%S\"\u001b[0m\u001b[0;34m)\u001b[0m\u001b[0;34m.\u001b[0m\u001b[0mtimetuple\u001b[0m\u001b[0;34m(\u001b[0m\u001b[0;34m)\u001b[0m\u001b[0;34m)\u001b[0m\u001b[0;34m\u001b[0m\u001b[0m\n",
      "\u001b[0;31mStopIteration\u001b[0m: "
     ]
    }
   ],
   "source": [
    "for i in range(len(a)):\n",
    "    TS_i=range(startTS,endTS, 5*60)[i]\n",
    "    DateTime_i=datetime.datetime.utcfromtimestamp(int(TS_i)).strftime('%Y-%m-%dT%H:%M:%S')\n",
    "    #get data at ith DateTime \n",
    "    it = next(j for j in xrange(len(data)) if data[j]['T'] >= DateTime_i)\n",
    "    data = data[:(it-1)]\n",
    "    latestTS=calendar.timegm(datetime.datetime.strptime(data[-1]['T'],\"%Y-%m-%dT%H:%M:%S\").timetuple())\n",
    "    print([TS_i, DateTime_i, latestTS])\n",
    "    #here debug, how not to stop iteration \n",
    "    #next, update peakprice, etc. \n",
    "    #next, how to do the time loop in the outmost loop \n",
    "    #how to save the signal "
   ]
  },
  {
   "cell_type": "code",
   "execution_count": null,
   "metadata": {},
   "outputs": [],
   "source": [
    "#1. Read 2wks data for all pairs\n",
    "#2. Input: 2wks data, all parameters; output: SignalHistory(dictionary, key=market, value=[timestamp, buy_indicator, sell_indicator])\n",
    "    #First (outmost) loop: loop around two weeks datetime (two weeks before current UTC time), for every 5 min\n",
    "        #For the current 5min window, get the end dateTime of the window \n",
    "        #Second loop: loop around all trading pairs, for each trading pair \n",
    "            #get the data corresponding to current window (compare the end dateTime of the current window and the data, find the lastest data before end of current window)\n",
    "            #Update peak price (setHoldingStatus)\n",
    "            #apply the trading logic and save the signalHistory \n",
    "#3. Merge the signlaHistory with the two weeks full data, output a dictionary (key=market,value=[timestamp, C, buy_indicator, sell_indicator] )\n",
    "#4. Calculate the returns based on #3, plot the return curve etc. \n",
    "\n",
    "#(Mengye needs help with 1 and 3. She can do 3 and 4 by herself)\n",
    "\n"
   ]
  }
 ],
 "metadata": {
  "kernelspec": {
   "display_name": "Python 2",
   "language": "python",
   "name": "python2"
  },
  "language_info": {
   "codemirror_mode": {
    "name": "ipython",
    "version": 2
   },
   "file_extension": ".py",
   "mimetype": "text/x-python",
   "name": "python",
   "nbconvert_exporter": "python",
   "pygments_lexer": "ipython2",
   "version": "2.7.13"
  }
 },
 "nbformat": 4,
 "nbformat_minor": 2
}
